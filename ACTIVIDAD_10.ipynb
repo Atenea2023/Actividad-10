{
  "nbformat": 4,
  "nbformat_minor": 0,
  "metadata": {
    "colab": {
      "provenance": [],
      "authorship_tag": "ABX9TyM1DXQbv9XwPKDquaADZ9lK",
      "include_colab_link": true
    },
    "kernelspec": {
      "name": "python3",
      "display_name": "Python 3"
    },
    "language_info": {
      "name": "python"
    }
  },
  "cells": [
    {
      "cell_type": "markdown",
      "metadata": {
        "id": "view-in-github",
        "colab_type": "text"
      },
      "source": [
        "<a href=\"https://colab.research.google.com/github/Atenea2023/Actividad-10/blob/main/ACTIVIDAD_10.ipynb\" target=\"_parent\"><img src=\"https://colab.research.google.com/assets/colab-badge.svg\" alt=\"Open In Colab\"/></a>"
      ]
    },
    {
      "cell_type": "markdown",
      "source": [
        "**Actividad 10 Dataframes con pandas**\n",
        "\n",
        "Stefania Aricapa Mora.\n",
        "\n",
        "C.C 1193558543\n"
      ],
      "metadata": {
        "id": "SYmqnvh2pu0s"
      }
    },
    {
      "cell_type": "markdown",
      "source": [
        "#DATA SET TRM\n",
        "\n"
      ],
      "metadata": {
        "id": "yeV8eDJ1tAWD"
      }
    },
    {
      "cell_type": "markdown",
      "source": [
        "**PUNTO 1**\n",
        "\n",
        "Cargue el dataset disponible en https://www.datos.gov.co/Econom-a-yFinanzas/Tasa-de-Cambio-Representativa-del-Mercado-TRM/32sa-8pi3"
      ],
      "metadata": {
        "id": "9kqd9yBjqgiE"
      }
    },
    {
      "cell_type": "code",
      "source": [
        "import pandas as pd\n",
        "import numpy as np\n",
        "import matplotlib.pyplot as plt"
      ],
      "metadata": {
        "id": "5s2YPOYpuiPe"
      },
      "execution_count": null,
      "outputs": []
    },
    {
      "cell_type": "code",
      "source": [
        "#DF subido a colab de la pagina de datos publicos como TRM\n",
        "df= pd.read_csv('TRM.csv')\n",
        "df.head(100)"
      ],
      "metadata": {
        "colab": {
          "base_uri": "https://localhost:8080/",
          "height": 423
        },
        "id": "pbq2iUtWB1Dl",
        "outputId": "cbf93580-e770-4e52-ae58-0b50cb0d527f"
      },
      "execution_count": null,
      "outputs": [
        {
          "output_type": "execute_result",
          "data": {
            "text/plain": [
              "      VALOR UNIDAD VIGENCIADESDE VIGENCIAHASTA\n",
              "0   4761.64    COP    22/12/2022    22/12/2022\n",
              "1   4781.28    COP    20/12/2022    20/12/2022\n",
              "2   4802.48    COP    17/12/2022    19/12/2022\n",
              "3   4836.24    COP    13/12/2022    13/12/2022\n",
              "4   4815.99    COP    10/12/2022    12/12/2022\n",
              "..      ...    ...           ...           ...\n",
              "95  3771.77    COP    04/03/2022    04/03/2022\n",
              "96  3901.62    COP    02/03/2022    02/03/2022\n",
              "97  3940.20    COP    25/02/2022    25/02/2022\n",
              "98  3913.79    COP    24/02/2022    24/02/2022\n",
              "99  3927.25    COP    19/02/2022    22/02/2022\n",
              "\n",
              "[100 rows x 4 columns]"
            ],
            "text/html": [
              "\n",
              "  <div id=\"df-fb8664b4-62bf-4136-8380-d75e24ceefd5\">\n",
              "    <div class=\"colab-df-container\">\n",
              "      <div>\n",
              "<style scoped>\n",
              "    .dataframe tbody tr th:only-of-type {\n",
              "        vertical-align: middle;\n",
              "    }\n",
              "\n",
              "    .dataframe tbody tr th {\n",
              "        vertical-align: top;\n",
              "    }\n",
              "\n",
              "    .dataframe thead th {\n",
              "        text-align: right;\n",
              "    }\n",
              "</style>\n",
              "<table border=\"1\" class=\"dataframe\">\n",
              "  <thead>\n",
              "    <tr style=\"text-align: right;\">\n",
              "      <th></th>\n",
              "      <th>VALOR</th>\n",
              "      <th>UNIDAD</th>\n",
              "      <th>VIGENCIADESDE</th>\n",
              "      <th>VIGENCIAHASTA</th>\n",
              "    </tr>\n",
              "  </thead>\n",
              "  <tbody>\n",
              "    <tr>\n",
              "      <th>0</th>\n",
              "      <td>4761.64</td>\n",
              "      <td>COP</td>\n",
              "      <td>22/12/2022</td>\n",
              "      <td>22/12/2022</td>\n",
              "    </tr>\n",
              "    <tr>\n",
              "      <th>1</th>\n",
              "      <td>4781.28</td>\n",
              "      <td>COP</td>\n",
              "      <td>20/12/2022</td>\n",
              "      <td>20/12/2022</td>\n",
              "    </tr>\n",
              "    <tr>\n",
              "      <th>2</th>\n",
              "      <td>4802.48</td>\n",
              "      <td>COP</td>\n",
              "      <td>17/12/2022</td>\n",
              "      <td>19/12/2022</td>\n",
              "    </tr>\n",
              "    <tr>\n",
              "      <th>3</th>\n",
              "      <td>4836.24</td>\n",
              "      <td>COP</td>\n",
              "      <td>13/12/2022</td>\n",
              "      <td>13/12/2022</td>\n",
              "    </tr>\n",
              "    <tr>\n",
              "      <th>4</th>\n",
              "      <td>4815.99</td>\n",
              "      <td>COP</td>\n",
              "      <td>10/12/2022</td>\n",
              "      <td>12/12/2022</td>\n",
              "    </tr>\n",
              "    <tr>\n",
              "      <th>...</th>\n",
              "      <td>...</td>\n",
              "      <td>...</td>\n",
              "      <td>...</td>\n",
              "      <td>...</td>\n",
              "    </tr>\n",
              "    <tr>\n",
              "      <th>95</th>\n",
              "      <td>3771.77</td>\n",
              "      <td>COP</td>\n",
              "      <td>04/03/2022</td>\n",
              "      <td>04/03/2022</td>\n",
              "    </tr>\n",
              "    <tr>\n",
              "      <th>96</th>\n",
              "      <td>3901.62</td>\n",
              "      <td>COP</td>\n",
              "      <td>02/03/2022</td>\n",
              "      <td>02/03/2022</td>\n",
              "    </tr>\n",
              "    <tr>\n",
              "      <th>97</th>\n",
              "      <td>3940.20</td>\n",
              "      <td>COP</td>\n",
              "      <td>25/02/2022</td>\n",
              "      <td>25/02/2022</td>\n",
              "    </tr>\n",
              "    <tr>\n",
              "      <th>98</th>\n",
              "      <td>3913.79</td>\n",
              "      <td>COP</td>\n",
              "      <td>24/02/2022</td>\n",
              "      <td>24/02/2022</td>\n",
              "    </tr>\n",
              "    <tr>\n",
              "      <th>99</th>\n",
              "      <td>3927.25</td>\n",
              "      <td>COP</td>\n",
              "      <td>19/02/2022</td>\n",
              "      <td>22/02/2022</td>\n",
              "    </tr>\n",
              "  </tbody>\n",
              "</table>\n",
              "<p>100 rows × 4 columns</p>\n",
              "</div>\n",
              "      <button class=\"colab-df-convert\" onclick=\"convertToInteractive('df-fb8664b4-62bf-4136-8380-d75e24ceefd5')\"\n",
              "              title=\"Convert this dataframe to an interactive table.\"\n",
              "              style=\"display:none;\">\n",
              "        \n",
              "  <svg xmlns=\"http://www.w3.org/2000/svg\" height=\"24px\"viewBox=\"0 0 24 24\"\n",
              "       width=\"24px\">\n",
              "    <path d=\"M0 0h24v24H0V0z\" fill=\"none\"/>\n",
              "    <path d=\"M18.56 5.44l.94 2.06.94-2.06 2.06-.94-2.06-.94-.94-2.06-.94 2.06-2.06.94zm-11 1L8.5 8.5l.94-2.06 2.06-.94-2.06-.94L8.5 2.5l-.94 2.06-2.06.94zm10 10l.94 2.06.94-2.06 2.06-.94-2.06-.94-.94-2.06-.94 2.06-2.06.94z\"/><path d=\"M17.41 7.96l-1.37-1.37c-.4-.4-.92-.59-1.43-.59-.52 0-1.04.2-1.43.59L10.3 9.45l-7.72 7.72c-.78.78-.78 2.05 0 2.83L4 21.41c.39.39.9.59 1.41.59.51 0 1.02-.2 1.41-.59l7.78-7.78 2.81-2.81c.8-.78.8-2.07 0-2.86zM5.41 20L4 18.59l7.72-7.72 1.47 1.35L5.41 20z\"/>\n",
              "  </svg>\n",
              "      </button>\n",
              "      \n",
              "  <style>\n",
              "    .colab-df-container {\n",
              "      display:flex;\n",
              "      flex-wrap:wrap;\n",
              "      gap: 12px;\n",
              "    }\n",
              "\n",
              "    .colab-df-convert {\n",
              "      background-color: #E8F0FE;\n",
              "      border: none;\n",
              "      border-radius: 50%;\n",
              "      cursor: pointer;\n",
              "      display: none;\n",
              "      fill: #1967D2;\n",
              "      height: 32px;\n",
              "      padding: 0 0 0 0;\n",
              "      width: 32px;\n",
              "    }\n",
              "\n",
              "    .colab-df-convert:hover {\n",
              "      background-color: #E2EBFA;\n",
              "      box-shadow: 0px 1px 2px rgba(60, 64, 67, 0.3), 0px 1px 3px 1px rgba(60, 64, 67, 0.15);\n",
              "      fill: #174EA6;\n",
              "    }\n",
              "\n",
              "    [theme=dark] .colab-df-convert {\n",
              "      background-color: #3B4455;\n",
              "      fill: #D2E3FC;\n",
              "    }\n",
              "\n",
              "    [theme=dark] .colab-df-convert:hover {\n",
              "      background-color: #434B5C;\n",
              "      box-shadow: 0px 1px 3px 1px rgba(0, 0, 0, 0.15);\n",
              "      filter: drop-shadow(0px 1px 2px rgba(0, 0, 0, 0.3));\n",
              "      fill: #FFFFFF;\n",
              "    }\n",
              "  </style>\n",
              "\n",
              "      <script>\n",
              "        const buttonEl =\n",
              "          document.querySelector('#df-fb8664b4-62bf-4136-8380-d75e24ceefd5 button.colab-df-convert');\n",
              "        buttonEl.style.display =\n",
              "          google.colab.kernel.accessAllowed ? 'block' : 'none';\n",
              "\n",
              "        async function convertToInteractive(key) {\n",
              "          const element = document.querySelector('#df-fb8664b4-62bf-4136-8380-d75e24ceefd5');\n",
              "          const dataTable =\n",
              "            await google.colab.kernel.invokeFunction('convertToInteractive',\n",
              "                                                     [key], {});\n",
              "          if (!dataTable) return;\n",
              "\n",
              "          const docLinkHtml = 'Like what you see? Visit the ' +\n",
              "            '<a target=\"_blank\" href=https://colab.research.google.com/notebooks/data_table.ipynb>data table notebook</a>'\n",
              "            + ' to learn more about interactive tables.';\n",
              "          element.innerHTML = '';\n",
              "          dataTable['output_type'] = 'display_data';\n",
              "          await google.colab.output.renderOutput(dataTable, element);\n",
              "          const docLink = document.createElement('div');\n",
              "          docLink.innerHTML = docLinkHtml;\n",
              "          element.appendChild(docLink);\n",
              "        }\n",
              "      </script>\n",
              "    </div>\n",
              "  </div>\n",
              "  "
            ]
          },
          "metadata": {},
          "execution_count": 2
        }
      ]
    },
    {
      "cell_type": "markdown",
      "source": [
        "**PUNTO 2**"
      ],
      "metadata": {
        "id": "vp2idCbCEhbS"
      }
    },
    {
      "cell_type": "markdown",
      "source": [
        "Calcular\n",
        "1. Media\n",
        "2. Mediana\n",
        "3. Desviación estándar\n",
        "4. Máximo\n",
        "5. Mínimo\n",
        "6. Máximo\n",
        "7. Rango\n",
        "\n",
        "\n",
        "\n",
        "\n"
      ],
      "metadata": {
        "id": "kDpXY06vEqQn"
      }
    },
    {
      "cell_type": "code",
      "source": [
        "print('MEDIA')#pertenece a pandas y permite realizar todas las operaciones requeridas \n",
        "print(df.VALOR.mean())\n",
        "print('MEDIANA')\n",
        "print(df.VALOR.median())\n",
        "print('DESVIACION ESTANDAR')\n",
        "print(df.VALOR.std())\n",
        "print('MAXIMO')\n",
        "print(df.VALOR.max())\n",
        "print('MINIMO')\n",
        "print(df.VALOR.min())\n",
        "print('RANGO')\n",
        "print((df.VALOR.max())-(df.VALOR.min()))"
      ],
      "metadata": {
        "colab": {
          "base_uri": "https://localhost:8080/"
        },
        "id": "bKvvkfcxehuW",
        "outputId": "29d08613-db89-4bb4-e089-f46f0f9803fc"
      },
      "execution_count": null,
      "outputs": [
        {
          "output_type": "stream",
          "name": "stdout",
          "text": [
            "MEDIA\n",
            "2210.4419163257226\n",
            "MEDIANA\n",
            "2159.79\n",
            "DESVIACION ESTANDAR\n",
            "947.4718931396027\n",
            "MAXIMO\n",
            "5061.21\n",
            "MINIMO\n",
            "620.62\n",
            "RANGO\n",
            "4440.59\n"
          ]
        }
      ]
    },
    {
      "cell_type": "markdown",
      "source": [
        "**PUNTO 3**\n",
        "\n",
        "Resumen de los datos númericos."
      ],
      "metadata": {
        "id": "O7cUqTUwIxC-"
      }
    },
    {
      "cell_type": "code",
      "source": [
        "#punto 3\n",
        "df.describe()\n"
      ],
      "metadata": {
        "id": "yqFkYdp36Pgk",
        "colab": {
          "base_uri": "https://localhost:8080/",
          "height": 300
        },
        "outputId": "65ae16b2-3da8-4bf0-f8a9-b1de1dd923d5"
      },
      "execution_count": null,
      "outputs": [
        {
          "output_type": "execute_result",
          "data": {
            "text/plain": [
              "             VALOR\n",
              "count  7577.000000\n",
              "mean   2210.441916\n",
              "std     947.471893\n",
              "min     620.620000\n",
              "25%    1753.510000\n",
              "50%    2159.790000\n",
              "75%    2867.750000\n",
              "max    5061.210000"
            ],
            "text/html": [
              "\n",
              "  <div id=\"df-089d5de6-479a-44d6-a34c-f272b9cb54fc\">\n",
              "    <div class=\"colab-df-container\">\n",
              "      <div>\n",
              "<style scoped>\n",
              "    .dataframe tbody tr th:only-of-type {\n",
              "        vertical-align: middle;\n",
              "    }\n",
              "\n",
              "    .dataframe tbody tr th {\n",
              "        vertical-align: top;\n",
              "    }\n",
              "\n",
              "    .dataframe thead th {\n",
              "        text-align: right;\n",
              "    }\n",
              "</style>\n",
              "<table border=\"1\" class=\"dataframe\">\n",
              "  <thead>\n",
              "    <tr style=\"text-align: right;\">\n",
              "      <th></th>\n",
              "      <th>VALOR</th>\n",
              "    </tr>\n",
              "  </thead>\n",
              "  <tbody>\n",
              "    <tr>\n",
              "      <th>count</th>\n",
              "      <td>7577.000000</td>\n",
              "    </tr>\n",
              "    <tr>\n",
              "      <th>mean</th>\n",
              "      <td>2210.441916</td>\n",
              "    </tr>\n",
              "    <tr>\n",
              "      <th>std</th>\n",
              "      <td>947.471893</td>\n",
              "    </tr>\n",
              "    <tr>\n",
              "      <th>min</th>\n",
              "      <td>620.620000</td>\n",
              "    </tr>\n",
              "    <tr>\n",
              "      <th>25%</th>\n",
              "      <td>1753.510000</td>\n",
              "    </tr>\n",
              "    <tr>\n",
              "      <th>50%</th>\n",
              "      <td>2159.790000</td>\n",
              "    </tr>\n",
              "    <tr>\n",
              "      <th>75%</th>\n",
              "      <td>2867.750000</td>\n",
              "    </tr>\n",
              "    <tr>\n",
              "      <th>max</th>\n",
              "      <td>5061.210000</td>\n",
              "    </tr>\n",
              "  </tbody>\n",
              "</table>\n",
              "</div>\n",
              "      <button class=\"colab-df-convert\" onclick=\"convertToInteractive('df-089d5de6-479a-44d6-a34c-f272b9cb54fc')\"\n",
              "              title=\"Convert this dataframe to an interactive table.\"\n",
              "              style=\"display:none;\">\n",
              "        \n",
              "  <svg xmlns=\"http://www.w3.org/2000/svg\" height=\"24px\"viewBox=\"0 0 24 24\"\n",
              "       width=\"24px\">\n",
              "    <path d=\"M0 0h24v24H0V0z\" fill=\"none\"/>\n",
              "    <path d=\"M18.56 5.44l.94 2.06.94-2.06 2.06-.94-2.06-.94-.94-2.06-.94 2.06-2.06.94zm-11 1L8.5 8.5l.94-2.06 2.06-.94-2.06-.94L8.5 2.5l-.94 2.06-2.06.94zm10 10l.94 2.06.94-2.06 2.06-.94-2.06-.94-.94-2.06-.94 2.06-2.06.94z\"/><path d=\"M17.41 7.96l-1.37-1.37c-.4-.4-.92-.59-1.43-.59-.52 0-1.04.2-1.43.59L10.3 9.45l-7.72 7.72c-.78.78-.78 2.05 0 2.83L4 21.41c.39.39.9.59 1.41.59.51 0 1.02-.2 1.41-.59l7.78-7.78 2.81-2.81c.8-.78.8-2.07 0-2.86zM5.41 20L4 18.59l7.72-7.72 1.47 1.35L5.41 20z\"/>\n",
              "  </svg>\n",
              "      </button>\n",
              "      \n",
              "  <style>\n",
              "    .colab-df-container {\n",
              "      display:flex;\n",
              "      flex-wrap:wrap;\n",
              "      gap: 12px;\n",
              "    }\n",
              "\n",
              "    .colab-df-convert {\n",
              "      background-color: #E8F0FE;\n",
              "      border: none;\n",
              "      border-radius: 50%;\n",
              "      cursor: pointer;\n",
              "      display: none;\n",
              "      fill: #1967D2;\n",
              "      height: 32px;\n",
              "      padding: 0 0 0 0;\n",
              "      width: 32px;\n",
              "    }\n",
              "\n",
              "    .colab-df-convert:hover {\n",
              "      background-color: #E2EBFA;\n",
              "      box-shadow: 0px 1px 2px rgba(60, 64, 67, 0.3), 0px 1px 3px 1px rgba(60, 64, 67, 0.15);\n",
              "      fill: #174EA6;\n",
              "    }\n",
              "\n",
              "    [theme=dark] .colab-df-convert {\n",
              "      background-color: #3B4455;\n",
              "      fill: #D2E3FC;\n",
              "    }\n",
              "\n",
              "    [theme=dark] .colab-df-convert:hover {\n",
              "      background-color: #434B5C;\n",
              "      box-shadow: 0px 1px 3px 1px rgba(0, 0, 0, 0.15);\n",
              "      filter: drop-shadow(0px 1px 2px rgba(0, 0, 0, 0.3));\n",
              "      fill: #FFFFFF;\n",
              "    }\n",
              "  </style>\n",
              "\n",
              "      <script>\n",
              "        const buttonEl =\n",
              "          document.querySelector('#df-089d5de6-479a-44d6-a34c-f272b9cb54fc button.colab-df-convert');\n",
              "        buttonEl.style.display =\n",
              "          google.colab.kernel.accessAllowed ? 'block' : 'none';\n",
              "\n",
              "        async function convertToInteractive(key) {\n",
              "          const element = document.querySelector('#df-089d5de6-479a-44d6-a34c-f272b9cb54fc');\n",
              "          const dataTable =\n",
              "            await google.colab.kernel.invokeFunction('convertToInteractive',\n",
              "                                                     [key], {});\n",
              "          if (!dataTable) return;\n",
              "\n",
              "          const docLinkHtml = 'Like what you see? Visit the ' +\n",
              "            '<a target=\"_blank\" href=https://colab.research.google.com/notebooks/data_table.ipynb>data table notebook</a>'\n",
              "            + ' to learn more about interactive tables.';\n",
              "          element.innerHTML = '';\n",
              "          dataTable['output_type'] = 'display_data';\n",
              "          await google.colab.output.renderOutput(dataTable, element);\n",
              "          const docLink = document.createElement('div');\n",
              "          docLink.innerHTML = docLinkHtml;\n",
              "          element.appendChild(docLink);\n",
              "        }\n",
              "      </script>\n",
              "    </div>\n",
              "  </div>\n",
              "  "
            ]
          },
          "metadata": {},
          "execution_count": 4
        }
      ]
    },
    {
      "cell_type": "markdown",
      "source": [
        "**PUNTO 4**"
      ],
      "metadata": {
        "id": "oq1zhkhwLKH8"
      }
    },
    {
      "cell_type": "markdown",
      "source": [
        "Información del dataset."
      ],
      "metadata": {
        "id": "fjiqSCtzltTy"
      }
    },
    {
      "cell_type": "code",
      "source": [
        "list(df.VALOR)"
      ],
      "metadata": {
        "id": "kPRKZM_Zh5l5"
      },
      "execution_count": null,
      "outputs": []
    },
    {
      "cell_type": "code",
      "source": [
        "#Punto 4\n",
        "df.info()"
      ],
      "metadata": {
        "colab": {
          "base_uri": "https://localhost:8080/"
        },
        "id": "xyKnZlBiJEhx",
        "outputId": "a6b3e107-f706-4674-ecc0-9e4ab7b2407e"
      },
      "execution_count": null,
      "outputs": [
        {
          "output_type": "stream",
          "name": "stdout",
          "text": [
            "<class 'pandas.core.frame.DataFrame'>\n",
            "RangeIndex: 7577 entries, 0 to 7576\n",
            "Data columns (total 4 columns):\n",
            " #   Column         Non-Null Count  Dtype  \n",
            "---  ------         --------------  -----  \n",
            " 0   VALOR          7577 non-null   float64\n",
            " 1   UNIDAD         7577 non-null   object \n",
            " 2   VIGENCIADESDE  7577 non-null   object \n",
            " 3   VIGENCIAHASTA  7577 non-null   object \n",
            "dtypes: float64(1), object(3)\n",
            "memory usage: 236.9+ KB\n"
          ]
        }
      ]
    },
    {
      "cell_type": "markdown",
      "source": [
        "**PUNTO 5**"
      ],
      "metadata": {
        "id": "_P2LH1TsOndZ"
      }
    },
    {
      "cell_type": "markdown",
      "source": [
        "En esta grafica podemos observar que el valor quetiende a repetirse con mayor frecuencia es cuando el dolar ronda un valor de 2.000"
      ],
      "metadata": {
        "id": "6HWfSOZnojZA"
      }
    },
    {
      "cell_type": "code",
      "source": [
        "df.plot.hist(bins=20, color='g')\n",
        "plt.title('TRM VARIACION')\n",
        "plt.xlabel('Variación del dolar')\n",
        "plt.ylabel('# de vecesque se repite el dato')\n",
        "plt.grid()\n",
        "plt.show()"
      ],
      "metadata": {
        "colab": {
          "base_uri": "https://localhost:8080/",
          "height": 472
        },
        "id": "12jVSw3KQEGt",
        "outputId": "884db801-282c-4528-9d2c-deebbb0fd498"
      },
      "execution_count": null,
      "outputs": [
        {
          "output_type": "display_data",
          "data": {
            "text/plain": [
              "<Figure size 640x480 with 1 Axes>"
            ],
            "image/png": "[encoded data removed]"
          },
          "metadata": {}
        }
      ]
    },
    {
      "cell_type": "markdown",
      "source": [
        "Esta grafica muestra el promedio del dolar. Que se encuentra en un promedio de 2.200 y los datos atipicos se encuentran por encima de 4.500 pesos."
      ],
      "metadata": {
        "id": "-u46l9r5oGCd"
      }
    },
    {
      "cell_type": "code",
      "source": [
        "df.boxplot()"
      ],
      "metadata": {
        "colab": {
          "base_uri": "https://localhost:8080/",
          "height": 448
        },
        "id": "--ifTJqGSVIq",
        "outputId": "0f6f896e-1f8e-4ba8-9636-30386610f8d6"
      },
      "execution_count": null,
      "outputs": [
        {
          "output_type": "execute_result",
          "data": {
            "text/plain": [
              "<Axes: >"
            ]
          },
          "metadata": {},
          "execution_count": 8
        },
        {
          "output_type": "display_data",
          "data": {
            "text/plain": [
              "<Figure size 640x480 with 1 Axes>"
            ],
            "image/png": "[encoded data removed]"
          },
          "metadata": {}
        }
      ]
    },
    {
      "cell_type": "markdown",
      "source": [
        "# DATASET DE DATOS PUBLICOS"
      ],
      "metadata": {
        "id": "fU0BPu4fttkd"
      }
    },
    {
      "cell_type": "markdown",
      "source": [
        "**PUNTO 6**"
      ],
      "metadata": {
        "id": "Ack5Nbajt26F"
      }
    },
    {
      "cell_type": "code",
      "source": [
        "#Instalación de SODAPY\n",
        "!pip install sodapy"
      ],
      "metadata": {
        "id": "rPvdUdwgukvc",
        "colab": {
          "base_uri": "https://localhost:8080/"
        },
        "outputId": "5472e2b6-0e53-44f9-effd-e786254c5233"
      },
      "execution_count": null,
      "outputs": [
        {
          "output_type": "stream",
          "name": "stdout",
          "text": [
            "Looking in indexes: https://pypi.org/simple, https://us-python.pkg.dev/colab-wheels/public/simple/\n",
            "Collecting sodapy\n",
            "  Downloading sodapy-2.2.0-py2.py3-none-any.whl (15 kB)\n",
            "Collecting requests>=2.28.1 (from sodapy)\n",
            "  Downloading requests-2.31.0-py3-none-any.whl (62 kB)\n",
            "\u001b[2K     \u001b[90m━━━━━━━━━━━━━━━━━━━━━━━━━━━━━━━━━━━━━━━━\u001b[0m \u001b[32m62.6/62.6 kB\u001b[0m \u001b[31m3.5 MB/s\u001b[0m eta \u001b[36m0:00:00\u001b[0m\n",
            "\u001b[?25hRequirement already satisfied: charset-normalizer<4,>=2 in /usr/local/lib/python3.10/dist-packages (from requests>=2.28.1->sodapy) (2.0.12)\n",
            "Requirement already satisfied: idna<4,>=2.5 in /usr/local/lib/python3.10/dist-packages (from requests>=2.28.1->sodapy) (3.4)\n",
            "Requirement already satisfied: urllib3<3,>=1.21.1 in /usr/local/lib/python3.10/dist-packages (from requests>=2.28.1->sodapy) (1.26.15)\n",
            "Requirement already satisfied: certifi>=2017.4.17 in /usr/local/lib/python3.10/dist-packages (from requests>=2.28.1->sodapy) (2022.12.7)\n",
            "Installing collected packages: requests, sodapy\n",
            "  Attempting uninstall: requests\n",
            "    Found existing installation: requests 2.27.1\n",
            "    Uninstalling requests-2.27.1:\n",
            "      Successfully uninstalled requests-2.27.1\n",
            "\u001b[31mERROR: pip's dependency resolver does not currently take into account all the packages that are installed. This behaviour is the source of the following dependency conflicts.\n",
            "google-colab 1.0.0 requires requests==2.27.1, but you have requests 2.31.0 which is incompatible.\u001b[0m\u001b[31m\n",
            "\u001b[0mSuccessfully installed requests-2.31.0 sodapy-2.2.0\n"
          ]
        }
      ]
    },
    {
      "cell_type": "code",
      "source": [
        "import pandas as pd\n",
        "from sodapy import Socrata\n",
        "client=Socrata(\"www.datos.gov.co\",None)#se usa cliente para poder usar el dataset, tiene none porq no pide credenciales\n",
        "results=client.get(\"iecp-pn4q\")#se copia y pega info del ultimo / para cargar los daatos\n",
        "client=pd.DataFrame.from_records(results)#linea necesaria para visualizar el dataset\n",
        "client.head()\n"
      ],
      "metadata": {
        "id": "ppmvoGDbpYBG",
        "colab": {
          "base_uri": "https://localhost:8080/",
          "height": 323
        },
        "outputId": "bad04f4f-300d-4c47-a9fb-332ee773a6a3"
      },
      "execution_count": null,
      "outputs": [
        {
          "output_type": "stream",
          "name": "stderr",
          "text": [
            "WARNING:root:Requests made without an app_token will be subject to strict throttling limits.\n"
          ]
        },
        {
          "output_type": "execute_result",
          "data": {
            "text/plain": [
              "  municipio departamen cod_depart cod_dane_m        aptitud     area_ha  \\\n",
              "0      Tota     Boyacá         15      15822        No apta  2.91272474   \n",
              "1      Tota     Boyacá         15      15822        No apta  0.00000246   \n",
              "2      Tota     Boyacá         15      15822        No apta   0.1414929   \n",
              "3      Tota     Boyacá         15      15822   Aptitud baja  6.61210207   \n",
              "4      Tota     Boyacá         15      15822  Aptitud media  0.00000373   \n",
              "\n",
              "  gridcode consecutiv     st_area_sh     st_length_  \n",
              "0        0         33  29127.2518639  998.040449887  \n",
              "1        0         49    0.024627995  11.5159473652  \n",
              "2        0         50   1414.9279515  1780.78234331  \n",
              "3        1         83  66121.0096833  1621.80439744  \n",
              "4        2         87     0.03725568  3.05772417311  "
            ],
            "text/html": [
              "\n",
              "  <div id=\"df-3d425674-0065-44dc-a29e-c1649194af5d\">\n",
              "    <div class=\"colab-df-container\">\n",
              "      <div>\n",
              "<style scoped>\n",
              "    .dataframe tbody tr th:only-of-type {\n",
              "        vertical-align: middle;\n",
              "    }\n",
              "\n",
              "    .dataframe tbody tr th {\n",
              "        vertical-align: top;\n",
              "    }\n",
              "\n",
              "    .dataframe thead th {\n",
              "        text-align: right;\n",
              "    }\n",
              "</style>\n",
              "<table border=\"1\" class=\"dataframe\">\n",
              "  <thead>\n",
              "    <tr style=\"text-align: right;\">\n",
              "      <th></th>\n",
              "      <th>municipio</th>\n",
              "      <th>departamen</th>\n",
              "      <th>cod_depart</th>\n",
              "      <th>cod_dane_m</th>\n",
              "      <th>aptitud</th>\n",
              "      <th>area_ha</th>\n",
              "      <th>gridcode</th>\n",
              "      <th>consecutiv</th>\n",
              "      <th>st_area_sh</th>\n",
              "      <th>st_length_</th>\n",
              "    </tr>\n",
              "  </thead>\n",
              "  <tbody>\n",
              "    <tr>\n",
              "      <th>0</th>\n",
              "      <td>Tota</td>\n",
              "      <td>Boyacá</td>\n",
              "      <td>15</td>\n",
              "      <td>15822</td>\n",
              "      <td>No apta</td>\n",
              "      <td>2.91272474</td>\n",
              "      <td>0</td>\n",
              "      <td>33</td>\n",
              "      <td>29127.2518639</td>\n",
              "      <td>998.040449887</td>\n",
              "    </tr>\n",
              "    <tr>\n",
              "      <th>1</th>\n",
              "      <td>Tota</td>\n",
              "      <td>Boyacá</td>\n",
              "      <td>15</td>\n",
              "      <td>15822</td>\n",
              "      <td>No apta</td>\n",
              "      <td>0.00000246</td>\n",
              "      <td>0</td>\n",
              "      <td>49</td>\n",
              "      <td>0.024627995</td>\n",
              "      <td>11.5159473652</td>\n",
              "    </tr>\n",
              "    <tr>\n",
              "      <th>2</th>\n",
              "      <td>Tota</td>\n",
              "      <td>Boyacá</td>\n",
              "      <td>15</td>\n",
              "      <td>15822</td>\n",
              "      <td>No apta</td>\n",
              "      <td>0.1414929</td>\n",
              "      <td>0</td>\n",
              "      <td>50</td>\n",
              "      <td>1414.9279515</td>\n",
              "      <td>1780.78234331</td>\n",
              "    </tr>\n",
              "    <tr>\n",
              "      <th>3</th>\n",
              "      <td>Tota</td>\n",
              "      <td>Boyacá</td>\n",
              "      <td>15</td>\n",
              "      <td>15822</td>\n",
              "      <td>Aptitud baja</td>\n",
              "      <td>6.61210207</td>\n",
              "      <td>1</td>\n",
              "      <td>83</td>\n",
              "      <td>66121.0096833</td>\n",
              "      <td>1621.80439744</td>\n",
              "    </tr>\n",
              "    <tr>\n",
              "      <th>4</th>\n",
              "      <td>Tota</td>\n",
              "      <td>Boyacá</td>\n",
              "      <td>15</td>\n",
              "      <td>15822</td>\n",
              "      <td>Aptitud media</td>\n",
              "      <td>0.00000373</td>\n",
              "      <td>2</td>\n",
              "      <td>87</td>\n",
              "      <td>0.03725568</td>\n",
              "      <td>3.05772417311</td>\n",
              "    </tr>\n",
              "  </tbody>\n",
              "</table>\n",
              "</div>\n",
              "      <button class=\"colab-df-convert\" onclick=\"convertToInteractive('df-3d425674-0065-44dc-a29e-c1649194af5d')\"\n",
              "              title=\"Convert this dataframe to an interactive table.\"\n",
              "              style=\"display:none;\">\n",
              "        \n",
              "  <svg xmlns=\"http://www.w3.org/2000/svg\" height=\"24px\"viewBox=\"0 0 24 24\"\n",
              "       width=\"24px\">\n",
              "    <path d=\"M0 0h24v24H0V0z\" fill=\"none\"/>\n",
              "    <path d=\"M18.56 5.44l.94 2.06.94-2.06 2.06-.94-2.06-.94-.94-2.06-.94 2.06-2.06.94zm-11 1L8.5 8.5l.94-2.06 2.06-.94-2.06-.94L8.5 2.5l-.94 2.06-2.06.94zm10 10l.94 2.06.94-2.06 2.06-.94-2.06-.94-.94-2.06-.94 2.06-2.06.94z\"/><path d=\"M17.41 7.96l-1.37-1.37c-.4-.4-.92-.59-1.43-.59-.52 0-1.04.2-1.43.59L10.3 9.45l-7.72 7.72c-.78.78-.78 2.05 0 2.83L4 21.41c.39.39.9.59 1.41.59.51 0 1.02-.2 1.41-.59l7.78-7.78 2.81-2.81c.8-.78.8-2.07 0-2.86zM5.41 20L4 18.59l7.72-7.72 1.47 1.35L5.41 20z\"/>\n",
              "  </svg>\n",
              "      </button>\n",
              "      \n",
              "  <style>\n",
              "    .colab-df-container {\n",
              "      display:flex;\n",
              "      flex-wrap:wrap;\n",
              "      gap: 12px;\n",
              "    }\n",
              "\n",
              "    .colab-df-convert {\n",
              "      background-color: #E8F0FE;\n",
              "      border: none;\n",
              "      border-radius: 50%;\n",
              "      cursor: pointer;\n",
              "      display: none;\n",
              "      fill: #1967D2;\n",
              "      height: 32px;\n",
              "      padding: 0 0 0 0;\n",
              "      width: 32px;\n",
              "    }\n",
              "\n",
              "    .colab-df-convert:hover {\n",
              "      background-color: #E2EBFA;\n",
              "      box-shadow: 0px 1px 2px rgba(60, 64, 67, 0.3), 0px 1px 3px 1px rgba(60, 64, 67, 0.15);\n",
              "      fill: #174EA6;\n",
              "    }\n",
              "\n",
              "    [theme=dark] .colab-df-convert {\n",
              "      background-color: #3B4455;\n",
              "      fill: #D2E3FC;\n",
              "    }\n",
              "\n",
              "    [theme=dark] .colab-df-convert:hover {\n",
              "      background-color: #434B5C;\n",
              "      box-shadow: 0px 1px 3px 1px rgba(0, 0, 0, 0.15);\n",
              "      filter: drop-shadow(0px 1px 2px rgba(0, 0, 0, 0.3));\n",
              "      fill: #FFFFFF;\n",
              "    }\n",
              "  </style>\n",
              "\n",
              "      <script>\n",
              "        const buttonEl =\n",
              "          document.querySelector('#df-3d425674-0065-44dc-a29e-c1649194af5d button.colab-df-convert');\n",
              "        buttonEl.style.display =\n",
              "          google.colab.kernel.accessAllowed ? 'block' : 'none';\n",
              "\n",
              "        async function convertToInteractive(key) {\n",
              "          const element = document.querySelector('#df-3d425674-0065-44dc-a29e-c1649194af5d');\n",
              "          const dataTable =\n",
              "            await google.colab.kernel.invokeFunction('convertToInteractive',\n",
              "                                                     [key], {});\n",
              "          if (!dataTable) return;\n",
              "\n",
              "          const docLinkHtml = 'Like what you see? Visit the ' +\n",
              "            '<a target=\"_blank\" href=https://colab.research.google.com/notebooks/data_table.ipynb>data table notebook</a>'\n",
              "            + ' to learn more about interactive tables.';\n",
              "          element.innerHTML = '';\n",
              "          dataTable['output_type'] = 'display_data';\n",
              "          await google.colab.output.renderOutput(dataTable, element);\n",
              "          const docLink = document.createElement('div');\n",
              "          docLink.innerHTML = docLinkHtml;\n",
              "          element.appendChild(docLink);\n",
              "        }\n",
              "      </script>\n",
              "    </div>\n",
              "  </div>\n",
              "  "
            ]
          },
          "metadata": {},
          "execution_count": 4
        }
      ]
    },
    {
      "cell_type": "markdown",
      "source": [
        "**PUNTO 7**\n",
        "\n",
        "Limpieza de dataset"
      ],
      "metadata": {
        "id": "9c1V6t_it_HJ"
      }
    },
    {
      "cell_type": "code",
      "source": [
        "client.info()"
      ],
      "metadata": {
        "colab": {
          "base_uri": "https://localhost:8080/"
        },
        "id": "YJgL-u3HuFKy",
        "outputId": "87c6da98-5332-468d-b81d-c8057a57fed7"
      },
      "execution_count": null,
      "outputs": [
        {
          "output_type": "stream",
          "name": "stdout",
          "text": [
            "<class 'pandas.core.frame.DataFrame'>\n",
            "RangeIndex: 904 entries, 0 to 903\n",
            "Data columns (total 10 columns):\n",
            " #   Column      Non-Null Count  Dtype \n",
            "---  ------      --------------  ----- \n",
            " 0   municipio   904 non-null    object\n",
            " 1   departamen  904 non-null    object\n",
            " 2   cod_depart  904 non-null    object\n",
            " 3   cod_dane_m  904 non-null    object\n",
            " 4   aptitud     904 non-null    object\n",
            " 5   area_ha     904 non-null    object\n",
            " 6   gridcode    904 non-null    object\n",
            " 7   consecutiv  904 non-null    object\n",
            " 8   st_area_sh  904 non-null    object\n",
            " 9   st_length_  904 non-null    object\n",
            "dtypes: object(10)\n",
            "memory usage: 70.8+ KB\n"
          ]
        }
      ]
    },
    {
      "cell_type": "code",
      "source": [
        "client.drop_duplicates()\n",
        "client"
      ],
      "metadata": {
        "id": "zKxfomwVv3Ll"
      },
      "execution_count": null,
      "outputs": []
    },
    {
      "cell_type": "code",
      "source": [
        "print(client.info())"
      ],
      "metadata": {
        "colab": {
          "base_uri": "https://localhost:8080/"
        },
        "id": "bROqMhsov8jb",
        "outputId": "435235d5-ecd0-4725-ef9e-2fd1c8c9e1af"
      },
      "execution_count": null,
      "outputs": [
        {
          "output_type": "stream",
          "name": "stdout",
          "text": [
            "<class 'pandas.core.frame.DataFrame'>\n",
            "RangeIndex: 904 entries, 0 to 903\n",
            "Data columns (total 10 columns):\n",
            " #   Column      Non-Null Count  Dtype \n",
            "---  ------      --------------  ----- \n",
            " 0   municipio   904 non-null    object\n",
            " 1   departamen  904 non-null    object\n",
            " 2   cod_depart  904 non-null    object\n",
            " 3   cod_dane_m  904 non-null    object\n",
            " 4   aptitud     904 non-null    object\n",
            " 5   area_ha     904 non-null    object\n",
            " 6   gridcode    904 non-null    object\n",
            " 7   consecutiv  904 non-null    object\n",
            " 8   st_area_sh  904 non-null    object\n",
            " 9   st_length_  904 non-null    object\n",
            "dtypes: object(10)\n",
            "memory usage: 70.8+ KB\n",
            "None\n"
          ]
        }
      ]
    },
    {
      "cell_type": "markdown",
      "source": [
        "Después de revisar que el dataset seleccionado no se encontraron filas repetidas o datos faltantes, para la limpieza de datos se realizan cambio de nombres y cambio objetos por flotantes en las siguientes columnas:\n",
        "\n",
        "1. Area hectareas\n",
        "\n",
        "2. st_area_sh\n",
        "\n",
        "3. st_length_"
      ],
      "metadata": {
        "id": "qky9HVXlwBet"
      }
    },
    {
      "cell_type": "code",
      "source": [
        "client.set_axis(['municipio', 'departamento', 'cod_dpto','cod_municipio','aptitud','area_hectareas', 'gridcode', 'consecutivo', 'st_area_sh', 'st_length_'],\n",
        "                    axis='columns', inplace=True)"
      ],
      "metadata": {
        "colab": {
          "base_uri": "https://localhost:8080/"
        },
        "id": "bDXyrErsw5Of",
        "outputId": "97071683-24b3-482d-828d-f5feb269e6c8"
      },
      "execution_count": null,
      "outputs": [
        {
          "output_type": "stream",
          "name": "stderr",
          "text": [
            "<ipython-input-8-27a4f2ec28c6>:1: FutureWarning: DataFrame.set_axis 'inplace' keyword is deprecated and will be removed in a future version. Use `obj = obj.set_axis(..., copy=False)` instead\n",
            "  client.set_axis(['municipio', 'departamento', 'cod_dpto','cod_municipio','aptitud','area_hectareas', 'gridcode', 'consecutivo', 'st_area_sh', 'st_length_'],\n"
          ]
        }
      ]
    },
    {
      "cell_type": "code",
      "source": [
        "client['area_hectareas'] = client['area_hectareas'].astype(float, errors = 'raise')\n",
        "client['st_area_sh'] = client['st_area_sh'].astype(float, errors = 'raise')\n",
        "client['st_length_'] = client['st_length_'].astype(float, errors = 'raise')\n",
        "\n",
        "print(client.info())"
      ],
      "metadata": {
        "id": "MwW9TwUVxIMC"
      },
      "execution_count": null,
      "outputs": []
    },
    {
      "cell_type": "code",
      "source": [
        "client.info()"
      ],
      "metadata": {
        "colab": {
          "base_uri": "https://localhost:8080/"
        },
        "id": "BA1bBP4exA7c",
        "outputId": "1a2a93ea-963e-4fd9-b56c-2333defac43a"
      },
      "execution_count": null,
      "outputs": [
        {
          "output_type": "stream",
          "name": "stdout",
          "text": [
            "<class 'pandas.core.frame.DataFrame'>\n",
            "RangeIndex: 904 entries, 0 to 903\n",
            "Data columns (total 10 columns):\n",
            " #   Column          Non-Null Count  Dtype  \n",
            "---  ------          --------------  -----  \n",
            " 0   municipio       904 non-null    object \n",
            " 1   departamento    904 non-null    object \n",
            " 2   cod_dpto        904 non-null    object \n",
            " 3   cod_municipio   904 non-null    object \n",
            " 4   aptitud         904 non-null    object \n",
            " 5   area_hectareas  904 non-null    float64\n",
            " 6   gridcode        904 non-null    object \n",
            " 7   consecutivo     904 non-null    object \n",
            " 8   st_area_sh      904 non-null    float64\n",
            " 9   st_length_      904 non-null    float64\n",
            "dtypes: float64(3), object(7)\n",
            "memory usage: 70.8+ KB\n"
          ]
        }
      ]
    },
    {
      "cell_type": "markdown",
      "source": [
        "**PUNTO 8**\n",
        "\n",
        "8.1 Datos estadisticos"
      ],
      "metadata": {
        "id": "fPLeAkPHxmYK"
      }
    },
    {
      "cell_type": "code",
      "source": [
        "client.describe()"
      ],
      "metadata": {
        "colab": {
          "base_uri": "https://localhost:8080/",
          "height": 300
        },
        "id": "E3DEAU8cxyrp",
        "outputId": "14b400a9-8272-48ff-afd8-f9638061ef89"
      },
      "execution_count": null,
      "outputs": [
        {
          "output_type": "execute_result",
          "data": {
            "text/plain": [
              "       area_hectareas    st_area_sh     st_length_\n",
              "count    9.040000e+02  9.040000e+02     904.000000\n",
              "mean     1.883616e+01  1.883616e+05    1517.879538\n",
              "std      1.309322e+02  1.309323e+06    5887.106009\n",
              "min      2.000000e-08  1.706050e-04       0.228500\n",
              "25%      2.497500e-06  2.501227e-02       2.954019\n",
              "50%      1.146000e-05  1.145918e-01       8.809344\n",
              "75%      1.093990e+00  1.093989e+04     687.792467\n",
              "max      2.941017e+03  2.941017e+07  102240.034193"
            ],
            "text/html": [
              "\n",
              "  <div id=\"df-6ba8eafa-102c-44c5-9656-6df9e3cd5a5b\">\n",
              "    <div class=\"colab-df-container\">\n",
              "      <div>\n",
              "<style scoped>\n",
              "    .dataframe tbody tr th:only-of-type {\n",
              "        vertical-align: middle;\n",
              "    }\n",
              "\n",
              "    .dataframe tbody tr th {\n",
              "        vertical-align: top;\n",
              "    }\n",
              "\n",
              "    .dataframe thead th {\n",
              "        text-align: right;\n",
              "    }\n",
              "</style>\n",
              "<table border=\"1\" class=\"dataframe\">\n",
              "  <thead>\n",
              "    <tr style=\"text-align: right;\">\n",
              "      <th></th>\n",
              "      <th>area_hectareas</th>\n",
              "      <th>st_area_sh</th>\n",
              "      <th>st_length_</th>\n",
              "    </tr>\n",
              "  </thead>\n",
              "  <tbody>\n",
              "    <tr>\n",
              "      <th>count</th>\n",
              "      <td>9.040000e+02</td>\n",
              "      <td>9.040000e+02</td>\n",
              "      <td>904.000000</td>\n",
              "    </tr>\n",
              "    <tr>\n",
              "      <th>mean</th>\n",
              "      <td>1.883616e+01</td>\n",
              "      <td>1.883616e+05</td>\n",
              "      <td>1517.879538</td>\n",
              "    </tr>\n",
              "    <tr>\n",
              "      <th>std</th>\n",
              "      <td>1.309322e+02</td>\n",
              "      <td>1.309323e+06</td>\n",
              "      <td>5887.106009</td>\n",
              "    </tr>\n",
              "    <tr>\n",
              "      <th>min</th>\n",
              "      <td>2.000000e-08</td>\n",
              "      <td>1.706050e-04</td>\n",
              "      <td>0.228500</td>\n",
              "    </tr>\n",
              "    <tr>\n",
              "      <th>25%</th>\n",
              "      <td>2.497500e-06</td>\n",
              "      <td>2.501227e-02</td>\n",
              "      <td>2.954019</td>\n",
              "    </tr>\n",
              "    <tr>\n",
              "      <th>50%</th>\n",
              "      <td>1.146000e-05</td>\n",
              "      <td>1.145918e-01</td>\n",
              "      <td>8.809344</td>\n",
              "    </tr>\n",
              "    <tr>\n",
              "      <th>75%</th>\n",
              "      <td>1.093990e+00</td>\n",
              "      <td>1.093989e+04</td>\n",
              "      <td>687.792467</td>\n",
              "    </tr>\n",
              "    <tr>\n",
              "      <th>max</th>\n",
              "      <td>2.941017e+03</td>\n",
              "      <td>2.941017e+07</td>\n",
              "      <td>102240.034193</td>\n",
              "    </tr>\n",
              "  </tbody>\n",
              "</table>\n",
              "</div>\n",
              "      <button class=\"colab-df-convert\" onclick=\"convertToInteractive('df-6ba8eafa-102c-44c5-9656-6df9e3cd5a5b')\"\n",
              "              title=\"Convert this dataframe to an interactive table.\"\n",
              "              style=\"display:none;\">\n",
              "        \n",
              "  <svg xmlns=\"http://www.w3.org/2000/svg\" height=\"24px\"viewBox=\"0 0 24 24\"\n",
              "       width=\"24px\">\n",
              "    <path d=\"M0 0h24v24H0V0z\" fill=\"none\"/>\n",
              "    <path d=\"M18.56 5.44l.94 2.06.94-2.06 2.06-.94-2.06-.94-.94-2.06-.94 2.06-2.06.94zm-11 1L8.5 8.5l.94-2.06 2.06-.94-2.06-.94L8.5 2.5l-.94 2.06-2.06.94zm10 10l.94 2.06.94-2.06 2.06-.94-2.06-.94-.94-2.06-.94 2.06-2.06.94z\"/><path d=\"M17.41 7.96l-1.37-1.37c-.4-.4-.92-.59-1.43-.59-.52 0-1.04.2-1.43.59L10.3 9.45l-7.72 7.72c-.78.78-.78 2.05 0 2.83L4 21.41c.39.39.9.59 1.41.59.51 0 1.02-.2 1.41-.59l7.78-7.78 2.81-2.81c.8-.78.8-2.07 0-2.86zM5.41 20L4 18.59l7.72-7.72 1.47 1.35L5.41 20z\"/>\n",
              "  </svg>\n",
              "      </button>\n",
              "      \n",
              "  <style>\n",
              "    .colab-df-container {\n",
              "      display:flex;\n",
              "      flex-wrap:wrap;\n",
              "      gap: 12px;\n",
              "    }\n",
              "\n",
              "    .colab-df-convert {\n",
              "      background-color: #E8F0FE;\n",
              "      border: none;\n",
              "      border-radius: 50%;\n",
              "      cursor: pointer;\n",
              "      display: none;\n",
              "      fill: #1967D2;\n",
              "      height: 32px;\n",
              "      padding: 0 0 0 0;\n",
              "      width: 32px;\n",
              "    }\n",
              "\n",
              "    .colab-df-convert:hover {\n",
              "      background-color: #E2EBFA;\n",
              "      box-shadow: 0px 1px 2px rgba(60, 64, 67, 0.3), 0px 1px 3px 1px rgba(60, 64, 67, 0.15);\n",
              "      fill: #174EA6;\n",
              "    }\n",
              "\n",
              "    [theme=dark] .colab-df-convert {\n",
              "      background-color: #3B4455;\n",
              "      fill: #D2E3FC;\n",
              "    }\n",
              "\n",
              "    [theme=dark] .colab-df-convert:hover {\n",
              "      background-color: #434B5C;\n",
              "      box-shadow: 0px 1px 3px 1px rgba(0, 0, 0, 0.15);\n",
              "      filter: drop-shadow(0px 1px 2px rgba(0, 0, 0, 0.3));\n",
              "      fill: #FFFFFF;\n",
              "    }\n",
              "  </style>\n",
              "\n",
              "      <script>\n",
              "        const buttonEl =\n",
              "          document.querySelector('#df-6ba8eafa-102c-44c5-9656-6df9e3cd5a5b button.colab-df-convert');\n",
              "        buttonEl.style.display =\n",
              "          google.colab.kernel.accessAllowed ? 'block' : 'none';\n",
              "\n",
              "        async function convertToInteractive(key) {\n",
              "          const element = document.querySelector('#df-6ba8eafa-102c-44c5-9656-6df9e3cd5a5b');\n",
              "          const dataTable =\n",
              "            await google.colab.kernel.invokeFunction('convertToInteractive',\n",
              "                                                     [key], {});\n",
              "          if (!dataTable) return;\n",
              "\n",
              "          const docLinkHtml = 'Like what you see? Visit the ' +\n",
              "            '<a target=\"_blank\" href=https://colab.research.google.com/notebooks/data_table.ipynb>data table notebook</a>'\n",
              "            + ' to learn more about interactive tables.';\n",
              "          element.innerHTML = '';\n",
              "          dataTable['output_type'] = 'display_data';\n",
              "          await google.colab.output.renderOutput(dataTable, element);\n",
              "          const docLink = document.createElement('div');\n",
              "          docLink.innerHTML = docLinkHtml;\n",
              "          element.appendChild(docLink);\n",
              "        }\n",
              "      </script>\n",
              "    </div>\n",
              "  </div>\n",
              "  "
            ]
          },
          "metadata": {},
          "execution_count": 12
        }
      ]
    },
    {
      "cell_type": "code",
      "source": [
        "print('PROMEDIO area_hectareas')#preguntar\n",
        "print(client.area_hectareas.mean())\n",
        "print('MEDIANA area_hectareas')\n",
        "print(client.area_hectareas.median())\n",
        "print('DESVIACION ESTANDAR area_hectareas')\n",
        "print(client.area_hectareas.std())"
      ],
      "metadata": {
        "colab": {
          "base_uri": "https://localhost:8080/"
        },
        "id": "fUoDhl-CyQ2V",
        "outputId": "91e0ebd5-e05a-41ba-d2fc-aeff1a059742"
      },
      "execution_count": null,
      "outputs": [
        {
          "output_type": "stream",
          "name": "stdout",
          "text": [
            "PROMEDIO area_hectareas\n",
            "18.836157374734515\n",
            "MEDIANA area_hectareas\n",
            "1.146e-05\n",
            "DESVIACION ESTANDAR area_hectareas\n",
            "130.9322486570692\n"
          ]
        }
      ]
    },
    {
      "cell_type": "markdown",
      "source": [
        "8.2 Graficas"
      ],
      "metadata": {
        "id": "lY5Fk2yX0zLG"
      }
    },
    {
      "cell_type": "code",
      "source": [
        "plt.bar(client.municipio, client.area_hectareas, color='y' )\n",
        "plt.xlabel('MUNICIPIO')\n",
        "plt.ylabel('HECTAREAS')\n",
        "plt.title('HECTAREAS POR MUNICIPIO')\n",
        "plt.grid()\n",
        "plt.show()"
      ],
      "metadata": {
        "colab": {
          "base_uri": "https://localhost:8080/",
          "height": 472
        },
        "id": "O2NTfXjA1Izg",
        "outputId": "c5679e22-9f74-4818-9445-741afca4e960"
      },
      "execution_count": null,
      "outputs": [
        {
          "output_type": "display_data",
          "data": {
            "text/plain": [
              "<Figure size 640x480 with 1 Axes>"
            ],
            "image/png": "[encoded data removed]"
          },
          "metadata": {}
        }
      ]
    },
    {
      "cell_type": "code",
      "source": [
        "plt.boxplot(client.area_hectareas)"
      ],
      "metadata": {
        "colab": {
          "base_uri": "https://localhost:8080/",
          "height": 576
        },
        "id": "lIO1Kxut0_cf",
        "outputId": "9e164618-1c66-4fd1-a74f-22498c4df3ae"
      },
      "execution_count": null,
      "outputs": [
        {
          "output_type": "execute_result",
          "data": {
            "text/plain": [
              "{'whiskers': [<matplotlib.lines.Line2D at 0x7f06c50b82b0>,\n",
              "  <matplotlib.lines.Line2D at 0x7f06c50b8550>],\n",
              " 'caps': [<matplotlib.lines.Line2D at 0x7f06c50b87f0>,\n",
              "  <matplotlib.lines.Line2D at 0x7f06c50b8a90>],\n",
              " 'boxes': [<matplotlib.lines.Line2D at 0x7f06c727bfd0>],\n",
              " 'medians': [<matplotlib.lines.Line2D at 0x7f06c50b8d30>],\n",
              " 'fliers': [<matplotlib.lines.Line2D at 0x7f06c50b8fd0>],\n",
              " 'means': []}"
            ]
          },
          "metadata": {},
          "execution_count": 15
        },
        {
          "output_type": "display_data",
          "data": {
            "text/plain": [
              "<Figure size 640x480 with 1 Axes>"
            ],
            "image/png": "[encoded data removed]"
          },
          "metadata": {}
        }
      ]
    },
    {
      "cell_type": "markdown",
      "source": [
        "**PUNTO 9**\n",
        "\n",
        "9.1 Tabla pivote"
      ],
      "metadata": {
        "id": "H37jI9yo1nst"
      }
    },
    {
      "cell_type": "code",
      "source": [
        "client.pivot_table(values=['area_hectareas'], index=['municipio'], columns=['aptitud'],  aggfunc ='sum')"
      ],
      "metadata": {
        "colab": {
          "base_uri": "https://localhost:8080/",
          "height": 237
        },
        "id": "AAVS39Nk1rIq",
        "outputId": "3db8f749-db65-48f5-ae2b-63639424942b"
      },
      "execution_count": null,
      "outputs": [
        {
          "output_type": "execute_result",
          "data": {
            "text/plain": [
              "          area_hectareas                                             \\\n",
              "aptitud     Aptitud alta Aptitud baja Aptitud media Exclusión legal   \n",
              "municipio                                                             \n",
              "Aquitania    1167.995945   407.599167   1252.040363     4804.872145   \n",
              "Cuítiva       474.175445     0.051571      3.496424      218.805520   \n",
              "Sogamoso        5.463651          NaN     54.689156     1680.517698   \n",
              "Tota         1237.166864    39.184606    357.331322      344.073963   \n",
              "\n",
              "                        \n",
              "aptitud        No apta  \n",
              "municipio               \n",
              "Aquitania  3416.798517  \n",
              "Cuítiva     546.542697  \n",
              "Sogamoso    134.243337  \n",
              "Tota        882.837876  "
            ],
            "text/html": [
              "\n",
              "  <div id=\"df-24a818b0-8b61-404e-b0b7-926ea8f91147\">\n",
              "    <div class=\"colab-df-container\">\n",
              "      <div>\n",
              "<style scoped>\n",
              "    .dataframe tbody tr th:only-of-type {\n",
              "        vertical-align: middle;\n",
              "    }\n",
              "\n",
              "    .dataframe tbody tr th {\n",
              "        vertical-align: top;\n",
              "    }\n",
              "\n",
              "    .dataframe thead tr th {\n",
              "        text-align: left;\n",
              "    }\n",
              "\n",
              "    .dataframe thead tr:last-of-type th {\n",
              "        text-align: right;\n",
              "    }\n",
              "</style>\n",
              "<table border=\"1\" class=\"dataframe\">\n",
              "  <thead>\n",
              "    <tr>\n",
              "      <th></th>\n",
              "      <th colspan=\"5\" halign=\"left\">area_hectareas</th>\n",
              "    </tr>\n",
              "    <tr>\n",
              "      <th>aptitud</th>\n",
              "      <th>Aptitud alta</th>\n",
              "      <th>Aptitud baja</th>\n",
              "      <th>Aptitud media</th>\n",
              "      <th>Exclusión legal</th>\n",
              "      <th>No apta</th>\n",
              "    </tr>\n",
              "    <tr>\n",
              "      <th>municipio</th>\n",
              "      <th></th>\n",
              "      <th></th>\n",
              "      <th></th>\n",
              "      <th></th>\n",
              "      <th></th>\n",
              "    </tr>\n",
              "  </thead>\n",
              "  <tbody>\n",
              "    <tr>\n",
              "      <th>Aquitania</th>\n",
              "      <td>1167.995945</td>\n",
              "      <td>407.599167</td>\n",
              "      <td>1252.040363</td>\n",
              "      <td>4804.872145</td>\n",
              "      <td>3416.798517</td>\n",
              "    </tr>\n",
              "    <tr>\n",
              "      <th>Cuítiva</th>\n",
              "      <td>474.175445</td>\n",
              "      <td>0.051571</td>\n",
              "      <td>3.496424</td>\n",
              "      <td>218.805520</td>\n",
              "      <td>546.542697</td>\n",
              "    </tr>\n",
              "    <tr>\n",
              "      <th>Sogamoso</th>\n",
              "      <td>5.463651</td>\n",
              "      <td>NaN</td>\n",
              "      <td>54.689156</td>\n",
              "      <td>1680.517698</td>\n",
              "      <td>134.243337</td>\n",
              "    </tr>\n",
              "    <tr>\n",
              "      <th>Tota</th>\n",
              "      <td>1237.166864</td>\n",
              "      <td>39.184606</td>\n",
              "      <td>357.331322</td>\n",
              "      <td>344.073963</td>\n",
              "      <td>882.837876</td>\n",
              "    </tr>\n",
              "  </tbody>\n",
              "</table>\n",
              "</div>\n",
              "      <button class=\"colab-df-convert\" onclick=\"convertToInteractive('df-24a818b0-8b61-404e-b0b7-926ea8f91147')\"\n",
              "              title=\"Convert this dataframe to an interactive table.\"\n",
              "              style=\"display:none;\">\n",
              "        \n",
              "  <svg xmlns=\"http://www.w3.org/2000/svg\" height=\"24px\"viewBox=\"0 0 24 24\"\n",
              "       width=\"24px\">\n",
              "    <path d=\"M0 0h24v24H0V0z\" fill=\"none\"/>\n",
              "    <path d=\"M18.56 5.44l.94 2.06.94-2.06 2.06-.94-2.06-.94-.94-2.06-.94 2.06-2.06.94zm-11 1L8.5 8.5l.94-2.06 2.06-.94-2.06-.94L8.5 2.5l-.94 2.06-2.06.94zm10 10l.94 2.06.94-2.06 2.06-.94-2.06-.94-.94-2.06-.94 2.06-2.06.94z\"/><path d=\"M17.41 7.96l-1.37-1.37c-.4-.4-.92-.59-1.43-.59-.52 0-1.04.2-1.43.59L10.3 9.45l-7.72 7.72c-.78.78-.78 2.05 0 2.83L4 21.41c.39.39.9.59 1.41.59.51 0 1.02-.2 1.41-.59l7.78-7.78 2.81-2.81c.8-.78.8-2.07 0-2.86zM5.41 20L4 18.59l7.72-7.72 1.47 1.35L5.41 20z\"/>\n",
              "  </svg>\n",
              "      </button>\n",
              "      \n",
              "  <style>\n",
              "    .colab-df-container {\n",
              "      display:flex;\n",
              "      flex-wrap:wrap;\n",
              "      gap: 12px;\n",
              "    }\n",
              "\n",
              "    .colab-df-convert {\n",
              "      background-color: #E8F0FE;\n",
              "      border: none;\n",
              "      border-radius: 50%;\n",
              "      cursor: pointer;\n",
              "      display: none;\n",
              "      fill: #1967D2;\n",
              "      height: 32px;\n",
              "      padding: 0 0 0 0;\n",
              "      width: 32px;\n",
              "    }\n",
              "\n",
              "    .colab-df-convert:hover {\n",
              "      background-color: #E2EBFA;\n",
              "      box-shadow: 0px 1px 2px rgba(60, 64, 67, 0.3), 0px 1px 3px 1px rgba(60, 64, 67, 0.15);\n",
              "      fill: #174EA6;\n",
              "    }\n",
              "\n",
              "    [theme=dark] .colab-df-convert {\n",
              "      background-color: #3B4455;\n",
              "      fill: #D2E3FC;\n",
              "    }\n",
              "\n",
              "    [theme=dark] .colab-df-convert:hover {\n",
              "      background-color: #434B5C;\n",
              "      box-shadow: 0px 1px 3px 1px rgba(0, 0, 0, 0.15);\n",
              "      filter: drop-shadow(0px 1px 2px rgba(0, 0, 0, 0.3));\n",
              "      fill: #FFFFFF;\n",
              "    }\n",
              "  </style>\n",
              "\n",
              "      <script>\n",
              "        const buttonEl =\n",
              "          document.querySelector('#df-24a818b0-8b61-404e-b0b7-926ea8f91147 button.colab-df-convert');\n",
              "        buttonEl.style.display =\n",
              "          google.colab.kernel.accessAllowed ? 'block' : 'none';\n",
              "\n",
              "        async function convertToInteractive(key) {\n",
              "          const element = document.querySelector('#df-24a818b0-8b61-404e-b0b7-926ea8f91147');\n",
              "          const dataTable =\n",
              "            await google.colab.kernel.invokeFunction('convertToInteractive',\n",
              "                                                     [key], {});\n",
              "          if (!dataTable) return;\n",
              "\n",
              "          const docLinkHtml = 'Like what you see? Visit the ' +\n",
              "            '<a target=\"_blank\" href=https://colab.research.google.com/notebooks/data_table.ipynb>data table notebook</a>'\n",
              "            + ' to learn more about interactive tables.';\n",
              "          element.innerHTML = '';\n",
              "          dataTable['output_type'] = 'display_data';\n",
              "          await google.colab.output.renderOutput(dataTable, element);\n",
              "          const docLink = document.createElement('div');\n",
              "          docLink.innerHTML = docLinkHtml;\n",
              "          element.appendChild(docLink);\n",
              "        }\n",
              "      </script>\n",
              "    </div>\n",
              "  </div>\n",
              "  "
            ]
          },
          "metadata": {},
          "execution_count": 21
        }
      ]
    },
    {
      "cell_type": "markdown",
      "source": [
        "9.2 Agrupación"
      ],
      "metadata": {
        "id": "zIt79keZ17iB"
      }
    },
    {
      "cell_type": "code",
      "source": [
        "client.groupby(client['municipio']). sum()[['area_hectareas']]#revisar "
      ],
      "metadata": {
        "colab": {
          "base_uri": "https://localhost:8080/",
          "height": 262
        },
        "id": "M-5aNqEP1_wh",
        "outputId": "d5c41401-aaf3-4ca4-a504-d9d3615f7a90"
      },
      "execution_count": null,
      "outputs": [
        {
          "output_type": "stream",
          "name": "stderr",
          "text": [
            "<ipython-input-22-2a5a01ed2dc3>:1: FutureWarning: The default value of numeric_only in DataFrameGroupBy.sum is deprecated. In a future version, numeric_only will default to False. Either specify numeric_only or select only columns which should be valid for the function.\n",
            "  client.groupby(client['municipio']). sum()[['area_hectareas']]\n"
          ]
        },
        {
          "output_type": "execute_result",
          "data": {
            "text/plain": [
              "           area_hectareas\n",
              "municipio                \n",
              "Aquitania    11049.306137\n",
              "Cuítiva       1243.071656\n",
              "Sogamoso      1874.913842\n",
              "Tota          2860.594631"
            ],
            "text/html": [
              "\n",
              "  <div id=\"df-719fb198-33d9-4ecd-93f4-8a04e0233752\">\n",
              "    <div class=\"colab-df-container\">\n",
              "      <div>\n",
              "<style scoped>\n",
              "    .dataframe tbody tr th:only-of-type {\n",
              "        vertical-align: middle;\n",
              "    }\n",
              "\n",
              "    .dataframe tbody tr th {\n",
              "        vertical-align: top;\n",
              "    }\n",
              "\n",
              "    .dataframe thead th {\n",
              "        text-align: right;\n",
              "    }\n",
              "</style>\n",
              "<table border=\"1\" class=\"dataframe\">\n",
              "  <thead>\n",
              "    <tr style=\"text-align: right;\">\n",
              "      <th></th>\n",
              "      <th>area_hectareas</th>\n",
              "    </tr>\n",
              "    <tr>\n",
              "      <th>municipio</th>\n",
              "      <th></th>\n",
              "    </tr>\n",
              "  </thead>\n",
              "  <tbody>\n",
              "    <tr>\n",
              "      <th>Aquitania</th>\n",
              "      <td>11049.306137</td>\n",
              "    </tr>\n",
              "    <tr>\n",
              "      <th>Cuítiva</th>\n",
              "      <td>1243.071656</td>\n",
              "    </tr>\n",
              "    <tr>\n",
              "      <th>Sogamoso</th>\n",
              "      <td>1874.913842</td>\n",
              "    </tr>\n",
              "    <tr>\n",
              "      <th>Tota</th>\n",
              "      <td>2860.594631</td>\n",
              "    </tr>\n",
              "  </tbody>\n",
              "</table>\n",
              "</div>\n",
              "      <button class=\"colab-df-convert\" onclick=\"convertToInteractive('df-719fb198-33d9-4ecd-93f4-8a04e0233752')\"\n",
              "              title=\"Convert this dataframe to an interactive table.\"\n",
              "              style=\"display:none;\">\n",
              "        \n",
              "  <svg xmlns=\"http://www.w3.org/2000/svg\" height=\"24px\"viewBox=\"0 0 24 24\"\n",
              "       width=\"24px\">\n",
              "    <path d=\"M0 0h24v24H0V0z\" fill=\"none\"/>\n",
              "    <path d=\"M18.56 5.44l.94 2.06.94-2.06 2.06-.94-2.06-.94-.94-2.06-.94 2.06-2.06.94zm-11 1L8.5 8.5l.94-2.06 2.06-.94-2.06-.94L8.5 2.5l-.94 2.06-2.06.94zm10 10l.94 2.06.94-2.06 2.06-.94-2.06-.94-.94-2.06-.94 2.06-2.06.94z\"/><path d=\"M17.41 7.96l-1.37-1.37c-.4-.4-.92-.59-1.43-.59-.52 0-1.04.2-1.43.59L10.3 9.45l-7.72 7.72c-.78.78-.78 2.05 0 2.83L4 21.41c.39.39.9.59 1.41.59.51 0 1.02-.2 1.41-.59l7.78-7.78 2.81-2.81c.8-.78.8-2.07 0-2.86zM5.41 20L4 18.59l7.72-7.72 1.47 1.35L5.41 20z\"/>\n",
              "  </svg>\n",
              "      </button>\n",
              "      \n",
              "  <style>\n",
              "    .colab-df-container {\n",
              "      display:flex;\n",
              "      flex-wrap:wrap;\n",
              "      gap: 12px;\n",
              "    }\n",
              "\n",
              "    .colab-df-convert {\n",
              "      background-color: #E8F0FE;\n",
              "      border: none;\n",
              "      border-radius: 50%;\n",
              "      cursor: pointer;\n",
              "      display: none;\n",
              "      fill: #1967D2;\n",
              "      height: 32px;\n",
              "      padding: 0 0 0 0;\n",
              "      width: 32px;\n",
              "    }\n",
              "\n",
              "    .colab-df-convert:hover {\n",
              "      background-color: #E2EBFA;\n",
              "      box-shadow: 0px 1px 2px rgba(60, 64, 67, 0.3), 0px 1px 3px 1px rgba(60, 64, 67, 0.15);\n",
              "      fill: #174EA6;\n",
              "    }\n",
              "\n",
              "    [theme=dark] .colab-df-convert {\n",
              "      background-color: #3B4455;\n",
              "      fill: #D2E3FC;\n",
              "    }\n",
              "\n",
              "    [theme=dark] .colab-df-convert:hover {\n",
              "      background-color: #434B5C;\n",
              "      box-shadow: 0px 1px 3px 1px rgba(0, 0, 0, 0.15);\n",
              "      filter: drop-shadow(0px 1px 2px rgba(0, 0, 0, 0.3));\n",
              "      fill: #FFFFFF;\n",
              "    }\n",
              "  </style>\n",
              "\n",
              "      <script>\n",
              "        const buttonEl =\n",
              "          document.querySelector('#df-719fb198-33d9-4ecd-93f4-8a04e0233752 button.colab-df-convert');\n",
              "        buttonEl.style.display =\n",
              "          google.colab.kernel.accessAllowed ? 'block' : 'none';\n",
              "\n",
              "        async function convertToInteractive(key) {\n",
              "          const element = document.querySelector('#df-719fb198-33d9-4ecd-93f4-8a04e0233752');\n",
              "          const dataTable =\n",
              "            await google.colab.kernel.invokeFunction('convertToInteractive',\n",
              "                                                     [key], {});\n",
              "          if (!dataTable) return;\n",
              "\n",
              "          const docLinkHtml = 'Like what you see? Visit the ' +\n",
              "            '<a target=\"_blank\" href=https://colab.research.google.com/notebooks/data_table.ipynb>data table notebook</a>'\n",
              "            + ' to learn more about interactive tables.';\n",
              "          element.innerHTML = '';\n",
              "          dataTable['output_type'] = 'display_data';\n",
              "          await google.colab.output.renderOutput(dataTable, element);\n",
              "          const docLink = document.createElement('div');\n",
              "          docLink.innerHTML = docLinkHtml;\n",
              "          element.appendChild(docLink);\n",
              "        }\n",
              "      </script>\n",
              "    </div>\n",
              "  </div>\n",
              "  "
            ]
          },
          "metadata": {},
          "execution_count": 22
        }
      ]
    },
    {
      "cell_type": "markdown",
      "source": [
        "**PUNTO 10**\n",
        "ANALISIS"
      ],
      "metadata": {
        "id": "xXdcKKwA26x0"
      }
    },
    {
      "cell_type": "markdown",
      "source": [
        "La recopilación de los datos se da para fortalecer el desarrollo economico en municipios de Boyacá a partir de actividades agropecuarias (ovinas) sostenibles. Por lo cual, se realizó un estudio sobre la aptitud en los terrenos para conocer qué terrenos son mejores para esta actividad.\n",
        "\n",
        "1. Aptitud Alta: Zonas con las mejores condiciones desde el punto de vista físico, socioecosistémico y socioeconómico.\n",
        "\n",
        "2. Aptitud Media: Zonas con limitaciones moderadas de tipo físico, socioecosistémico y/o socioeconómico.\n",
        "\n",
        "3. Aptitud Baja: Zonas con fuertes limitaciones de tipo físico, socioecosistémico y/o socioeconómico, las cuales podrían adecuarse con grandes inversiones y/o el desarrollo de nuevas tecnologías.\n",
        "\n",
        "4. No apta: Zonas con restricciones físicas y socioecosistémicas que imposibilitan el desarrollo de la actividad.\n",
        "\n",
        "5. Exclusión legal: Zonas en las cuales, por mandato legal, no se permite el desarrollo de la producción de carne ovina"
      ],
      "metadata": {
        "id": "4sdjYykUtZev"
      }
    },
    {
      "cell_type": "code",
      "source": [
        "plt.bar(client.municipio, client.area_hectareas, color='y' )\n",
        "plt.xlabel('MUNICIPIO')\n",
        "plt.ylabel('HECTAREAS')\n",
        "plt.title('HECTAREAS POR MUNICIPIO')\n",
        "plt.grid()\n",
        "plt.show()\n",
        "\n"
      ],
      "metadata": {
        "colab": {
          "base_uri": "https://localhost:8080/",
          "height": 472
        },
        "id": "lJo8YrxI4l1A",
        "outputId": "01e35cd1-965b-4495-db4a-784f3d96c348"
      },
      "execution_count": null,
      "outputs": [
        {
          "output_type": "display_data",
          "data": {
            "text/plain": [
              "<Figure size 640x480 with 1 Axes>"
            ],
            "image/png": "[encoded data removed]"
          },
          "metadata": {}
        }
      ]
    },
    {
      "cell_type": "markdown",
      "source": [
        "Con los datos estadisticos y la primera grafica podemos determinar cómo se distribuye la totalidad del area de los municipios de los cuales se recopiló información. Dandonos a conocer a simple vista que el municipio con más área para actividades agropecuarias es Aquitanea. Sin embargo, esta información inicial solo nos indica el área. \n"
      ],
      "metadata": {
        "id": "OTwFM_7V3GG8"
      }
    },
    {
      "cell_type": "markdown",
      "source": [
        "Al contrastar la información con la tabla pivote se logra apreciar que **no se puede contar con la totalidad del área para ganaderia** pues más de la mitad de las áreas en los diferentes municipios se encuentran no aptas o están con exclusión legal"
      ],
      "metadata": {
        "id": "oJrDTi9W9m5-"
      }
    },
    {
      "cell_type": "markdown",
      "source": [
        "Si proseguimos a tener en cuenta el grafico de cajas y bigotes se puede notar que en cuanto a extensión de tierra, los datos atipicos están ligados a secciones de tierra que sobrepasan en gran medida al promedio de otras dispuestas en  la información. Por tanto, estos datos atipicos podrian sesgar los resultados obtenidos en cuanto a la distribución de la tierra."
      ],
      "metadata": {
        "id": "SLO6FLuHAQu3"
      }
    },
    {
      "cell_type": "code",
      "source": [
        "client.pivot_table(values=['area_hectareas'], index=['municipio'], columns=['aptitud'],  aggfunc ='sum')"
      ],
      "metadata": {
        "colab": {
          "base_uri": "https://localhost:8080/",
          "height": 237
        },
        "id": "DZdiB4P39eY0",
        "outputId": "5714f355-6980-4d5b-bf1c-5711666f6302"
      },
      "execution_count": null,
      "outputs": [
        {
          "output_type": "execute_result",
          "data": {
            "text/plain": [
              "          area_hectareas                                             \\\n",
              "aptitud     Aptitud alta Aptitud baja Aptitud media Exclusión legal   \n",
              "municipio                                                             \n",
              "Aquitania    1167.995945   407.599167   1252.040363     4804.872145   \n",
              "Cuítiva       474.175445     0.051571      3.496424      218.805520   \n",
              "Sogamoso        5.463651          NaN     54.689156     1680.517698   \n",
              "Tota         1237.166864    39.184606    357.331322      344.073963   \n",
              "\n",
              "                        \n",
              "aptitud        No apta  \n",
              "municipio               \n",
              "Aquitania  3416.798517  \n",
              "Cuítiva     546.542697  \n",
              "Sogamoso    134.243337  \n",
              "Tota        882.837876  "
            ],
            "text/html": [
              "\n",
              "  <div id=\"df-b7cfc501-33e3-44db-888b-12ba1b753c63\">\n",
              "    <div class=\"colab-df-container\">\n",
              "      <div>\n",
              "<style scoped>\n",
              "    .dataframe tbody tr th:only-of-type {\n",
              "        vertical-align: middle;\n",
              "    }\n",
              "\n",
              "    .dataframe tbody tr th {\n",
              "        vertical-align: top;\n",
              "    }\n",
              "\n",
              "    .dataframe thead tr th {\n",
              "        text-align: left;\n",
              "    }\n",
              "\n",
              "    .dataframe thead tr:last-of-type th {\n",
              "        text-align: right;\n",
              "    }\n",
              "</style>\n",
              "<table border=\"1\" class=\"dataframe\">\n",
              "  <thead>\n",
              "    <tr>\n",
              "      <th></th>\n",
              "      <th colspan=\"5\" halign=\"left\">area_hectareas</th>\n",
              "    </tr>\n",
              "    <tr>\n",
              "      <th>aptitud</th>\n",
              "      <th>Aptitud alta</th>\n",
              "      <th>Aptitud baja</th>\n",
              "      <th>Aptitud media</th>\n",
              "      <th>Exclusión legal</th>\n",
              "      <th>No apta</th>\n",
              "    </tr>\n",
              "    <tr>\n",
              "      <th>municipio</th>\n",
              "      <th></th>\n",
              "      <th></th>\n",
              "      <th></th>\n",
              "      <th></th>\n",
              "      <th></th>\n",
              "    </tr>\n",
              "  </thead>\n",
              "  <tbody>\n",
              "    <tr>\n",
              "      <th>Aquitania</th>\n",
              "      <td>1167.995945</td>\n",
              "      <td>407.599167</td>\n",
              "      <td>1252.040363</td>\n",
              "      <td>4804.872145</td>\n",
              "      <td>3416.798517</td>\n",
              "    </tr>\n",
              "    <tr>\n",
              "      <th>Cuítiva</th>\n",
              "      <td>474.175445</td>\n",
              "      <td>0.051571</td>\n",
              "      <td>3.496424</td>\n",
              "      <td>218.805520</td>\n",
              "      <td>546.542697</td>\n",
              "    </tr>\n",
              "    <tr>\n",
              "      <th>Sogamoso</th>\n",
              "      <td>5.463651</td>\n",
              "      <td>NaN</td>\n",
              "      <td>54.689156</td>\n",
              "      <td>1680.517698</td>\n",
              "      <td>134.243337</td>\n",
              "    </tr>\n",
              "    <tr>\n",
              "      <th>Tota</th>\n",
              "      <td>1237.166864</td>\n",
              "      <td>39.184606</td>\n",
              "      <td>357.331322</td>\n",
              "      <td>344.073963</td>\n",
              "      <td>882.837876</td>\n",
              "    </tr>\n",
              "  </tbody>\n",
              "</table>\n",
              "</div>\n",
              "      <button class=\"colab-df-convert\" onclick=\"convertToInteractive('df-b7cfc501-33e3-44db-888b-12ba1b753c63')\"\n",
              "              title=\"Convert this dataframe to an interactive table.\"\n",
              "              style=\"display:none;\">\n",
              "        \n",
              "  <svg xmlns=\"http://www.w3.org/2000/svg\" height=\"24px\"viewBox=\"0 0 24 24\"\n",
              "       width=\"24px\">\n",
              "    <path d=\"M0 0h24v24H0V0z\" fill=\"none\"/>\n",
              "    <path d=\"M18.56 5.44l.94 2.06.94-2.06 2.06-.94-2.06-.94-.94-2.06-.94 2.06-2.06.94zm-11 1L8.5 8.5l.94-2.06 2.06-.94-2.06-.94L8.5 2.5l-.94 2.06-2.06.94zm10 10l.94 2.06.94-2.06 2.06-.94-2.06-.94-.94-2.06-.94 2.06-2.06.94z\"/><path d=\"M17.41 7.96l-1.37-1.37c-.4-.4-.92-.59-1.43-.59-.52 0-1.04.2-1.43.59L10.3 9.45l-7.72 7.72c-.78.78-.78 2.05 0 2.83L4 21.41c.39.39.9.59 1.41.59.51 0 1.02-.2 1.41-.59l7.78-7.78 2.81-2.81c.8-.78.8-2.07 0-2.86zM5.41 20L4 18.59l7.72-7.72 1.47 1.35L5.41 20z\"/>\n",
              "  </svg>\n",
              "      </button>\n",
              "      \n",
              "  <style>\n",
              "    .colab-df-container {\n",
              "      display:flex;\n",
              "      flex-wrap:wrap;\n",
              "      gap: 12px;\n",
              "    }\n",
              "\n",
              "    .colab-df-convert {\n",
              "      background-color: #E8F0FE;\n",
              "      border: none;\n",
              "      border-radius: 50%;\n",
              "      cursor: pointer;\n",
              "      display: none;\n",
              "      fill: #1967D2;\n",
              "      height: 32px;\n",
              "      padding: 0 0 0 0;\n",
              "      width: 32px;\n",
              "    }\n",
              "\n",
              "    .colab-df-convert:hover {\n",
              "      background-color: #E2EBFA;\n",
              "      box-shadow: 0px 1px 2px rgba(60, 64, 67, 0.3), 0px 1px 3px 1px rgba(60, 64, 67, 0.15);\n",
              "      fill: #174EA6;\n",
              "    }\n",
              "\n",
              "    [theme=dark] .colab-df-convert {\n",
              "      background-color: #3B4455;\n",
              "      fill: #D2E3FC;\n",
              "    }\n",
              "\n",
              "    [theme=dark] .colab-df-convert:hover {\n",
              "      background-color: #434B5C;\n",
              "      box-shadow: 0px 1px 3px 1px rgba(0, 0, 0, 0.15);\n",
              "      filter: drop-shadow(0px 1px 2px rgba(0, 0, 0, 0.3));\n",
              "      fill: #FFFFFF;\n",
              "    }\n",
              "  </style>\n",
              "\n",
              "      <script>\n",
              "        const buttonEl =\n",
              "          document.querySelector('#df-b7cfc501-33e3-44db-888b-12ba1b753c63 button.colab-df-convert');\n",
              "        buttonEl.style.display =\n",
              "          google.colab.kernel.accessAllowed ? 'block' : 'none';\n",
              "\n",
              "        async function convertToInteractive(key) {\n",
              "          const element = document.querySelector('#df-b7cfc501-33e3-44db-888b-12ba1b753c63');\n",
              "          const dataTable =\n",
              "            await google.colab.kernel.invokeFunction('convertToInteractive',\n",
              "                                                     [key], {});\n",
              "          if (!dataTable) return;\n",
              "\n",
              "          const docLinkHtml = 'Like what you see? Visit the ' +\n",
              "            '<a target=\"_blank\" href=https://colab.research.google.com/notebooks/data_table.ipynb>data table notebook</a>'\n",
              "            + ' to learn more about interactive tables.';\n",
              "          element.innerHTML = '';\n",
              "          dataTable['output_type'] = 'display_data';\n",
              "          await google.colab.output.renderOutput(dataTable, element);\n",
              "          const docLink = document.createElement('div');\n",
              "          docLink.innerHTML = docLinkHtml;\n",
              "          element.appendChild(docLink);\n",
              "        }\n",
              "      </script>\n",
              "    </div>\n",
              "  </div>\n",
              "  "
            ]
          },
          "metadata": {},
          "execution_count": 28
        }
      ]
    },
    {
      "cell_type": "code",
      "source": [
        "plt.boxplot(client.area_hectareas)"
      ],
      "metadata": {
        "colab": {
          "base_uri": "https://localhost:8080/",
          "height": 576
        },
        "id": "KiMCgeav4zjT",
        "outputId": "60e1d0d7-2004-4b5b-e17b-868c4173b2f5"
      },
      "execution_count": null,
      "outputs": [
        {
          "output_type": "execute_result",
          "data": {
            "text/plain": [
              "{'whiskers': [<matplotlib.lines.Line2D at 0x7f06c4352f20>,\n",
              "  <matplotlib.lines.Line2D at 0x7f06c43531c0>],\n",
              " 'caps': [<matplotlib.lines.Line2D at 0x7f06c4353460>,\n",
              "  <matplotlib.lines.Line2D at 0x7f06c4353700>],\n",
              " 'boxes': [<matplotlib.lines.Line2D at 0x7f06c4352c80>],\n",
              " 'medians': [<matplotlib.lines.Line2D at 0x7f06c43539a0>],\n",
              " 'fliers': [<matplotlib.lines.Line2D at 0x7f06c4353c40>],\n",
              " 'means': []}"
            ]
          },
          "metadata": {},
          "execution_count": 27
        },
        {
          "output_type": "display_data",
          "data": {
            "text/plain": [
              "<Figure size 640x480 with 1 Axes>"
            ],
            "image/png": "[encoded data removed]"
          },
          "metadata": {}
        }
      ]
    },
    {
      "cell_type": "markdown",
      "source": [
        "En conclusión, de toda el área estudiada es posible trabajar con al rededor del 50% total. Seria conveniente revisar a detalle la posición de las parcelas y si coinciden las de alta y media aptitud pues permitirian ahorrar recursos y tener un mejor ejercicio de la actividad agropecuaria."
      ],
      "metadata": {
        "id": "0ZJt1zOxyZBZ"
      }
    }
  ]
}